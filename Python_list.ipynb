{
 "cells": [
  {
   "cell_type": "code",
   "execution_count": 121,
   "metadata": {},
   "outputs": [
    {
     "name": "stdout",
     "output_type": "stream",
     "text": [
      "['Lion', 'tiger', 'deer', 'dog']\n"
     ]
    }
   ],
   "source": [
    "#Python Collections (Arrays)\n",
    "animals=['Lion','tiger','deer','dog']\n",
    "print(animals)\n"
   ]
  },
  {
   "cell_type": "code",
   "execution_count": 43,
   "metadata": {},
   "outputs": [
    {
     "data": {
      "text/plain": [
       "list"
      ]
     },
     "execution_count": 43,
     "metadata": {},
     "output_type": "execute_result"
    }
   ],
   "source": [
    "type(animals)"
   ]
  },
  {
   "cell_type": "code",
   "execution_count": 27,
   "metadata": {},
   "outputs": [
    {
     "name": "stdout",
     "output_type": "stream",
     "text": [
      "('Lion', 'tiger', 'deer', 'dog')\n"
     ]
    }
   ],
   "source": [
    "animals=('Lion','tiger','deer','dog')\n",
    "print(animals)"
   ]
  },
  {
   "cell_type": "code",
   "execution_count": 28,
   "metadata": {},
   "outputs": [
    {
     "data": {
      "text/plain": [
       "tuple"
      ]
     },
     "execution_count": 28,
     "metadata": {},
     "output_type": "execute_result"
    }
   ],
   "source": [
    "type(animals)"
   ]
  },
  {
   "cell_type": "code",
   "execution_count": 77,
   "metadata": {},
   "outputs": [
    {
     "name": "stdout",
     "output_type": "stream",
     "text": [
      "{'animal1': 'Lion', 'animal2': 'tiger', 'animal3': 'deer', 'animal4': 'dog'}\n"
     ]
    }
   ],
   "source": [
    "animals={'animal1':'Lion','animal2':'tiger','animal3':'deer','animal4':'dog'}\n",
    "print(animals)"
   ]
  },
  {
   "cell_type": "code",
   "execution_count": 78,
   "metadata": {},
   "outputs": [
    {
     "data": {
      "text/plain": [
       "dict"
      ]
     },
     "execution_count": 78,
     "metadata": {},
     "output_type": "execute_result"
    }
   ],
   "source": [
    "type(animals)"
   ]
  },
  {
   "cell_type": "code",
   "execution_count": 48,
   "metadata": {},
   "outputs": [
    {
     "name": "stdout",
     "output_type": "stream",
     "text": [
      "{'dog', 'Lion', 'tiger', 'deer'}\n"
     ]
    }
   ],
   "source": [
    "animals={'Lion','tiger','deer','dog'}\n",
    "print(animals)"
   ]
  },
  {
   "cell_type": "code",
   "execution_count": 49,
   "metadata": {},
   "outputs": [
    {
     "data": {
      "text/plain": [
       "set"
      ]
     },
     "execution_count": 49,
     "metadata": {},
     "output_type": "execute_result"
    }
   ],
   "source": [
    "type(animals)"
   ]
  },
  {
   "cell_type": "code",
   "execution_count": 97,
   "metadata": {},
   "outputs": [
    {
     "name": "stdout",
     "output_type": "stream",
     "text": [
      "{('Lion', 'tiger', 'deer', 'dog')}\n"
     ]
    }
   ],
   "source": [
    "animals={('Lion','tiger','deer','dog')}\n",
    "print(animals)"
   ]
  },
  {
   "cell_type": "code",
   "execution_count": 99,
   "metadata": {},
   "outputs": [
    {
     "name": "stdout",
     "output_type": "stream",
     "text": [
      "['Lion', 'tiger', 'deer', 'dog']\n"
     ]
    }
   ],
   "source": [
    "print(animals[-5:])"
   ]
  },
  {
   "cell_type": "code",
   "execution_count": 100,
   "metadata": {},
   "outputs": [
    {
     "name": "stdout",
     "output_type": "stream",
     "text": [
      "['Lion', 'tiger', 'deer', 'cow']\n"
     ]
    }
   ],
   "source": [
    "animals[3]='cow'\n",
    "print(animals)"
   ]
  },
  {
   "cell_type": "code",
   "execution_count": 105,
   "metadata": {},
   "outputs": [
    {
     "name": "stdout",
     "output_type": "stream",
     "text": [
      "Lion\n",
      "tiger\n",
      "deer\n",
      "cow\n"
     ]
    }
   ],
   "source": [
    "for a in animals:\n",
    "    print(a)"
   ]
  },
  {
   "cell_type": "code",
   "execution_count": 110,
   "metadata": {},
   "outputs": [
    {
     "name": "stdout",
     "output_type": "stream",
     "text": [
      "yes,cow is there in animals list\n"
     ]
    }
   ],
   "source": [
    "if 'cow' in animals:\n",
    "    print(\"yes,cow is there in animals list\")"
   ]
  },
  {
   "cell_type": "code",
   "execution_count": 111,
   "metadata": {},
   "outputs": [
    {
     "name": "stdout",
     "output_type": "stream",
     "text": [
      "4\n"
     ]
    }
   ],
   "source": [
    "print(len(animals))"
   ]
  },
  {
   "cell_type": "code",
   "execution_count": 112,
   "metadata": {},
   "outputs": [
    {
     "name": "stdout",
     "output_type": "stream",
     "text": [
      "['Lion', 'tiger', 'deer', 'cow', 'dog']\n"
     ]
    }
   ],
   "source": [
    "animals.append('dog')\n",
    "print(animals)"
   ]
  },
  {
   "cell_type": "code",
   "execution_count": 125,
   "metadata": {},
   "outputs": [
    {
     "name": "stdout",
     "output_type": "stream",
     "text": [
      "['Lion', 'tiger', 'elephant', 'Elephant', 'deer', 'dog']\n"
     ]
    }
   ],
   "source": [
    "animals.insert(2,'elephant')\n",
    "print(animals)"
   ]
  },
  {
   "cell_type": "code",
   "execution_count": 126,
   "metadata": {},
   "outputs": [
    {
     "name": "stdout",
     "output_type": "stream",
     "text": [
      "['Lion', 'tiger', 'elephant', 'deer', 'dog']\n"
     ]
    }
   ],
   "source": [
    "animals.remove('Elephant')\n",
    "print(animals)"
   ]
  },
  {
   "cell_type": "code",
   "execution_count": 117,
   "metadata": {},
   "outputs": [
    {
     "name": "stdout",
     "output_type": "stream",
     "text": [
      "['Lion', 'tiger', 'elephant', 'deer', 'cow']\n"
     ]
    }
   ],
   "source": [
    "animals.pop()\n",
    "print(animals)"
   ]
  },
  {
   "cell_type": "code",
   "execution_count": 118,
   "metadata": {},
   "outputs": [
    {
     "name": "stdout",
     "output_type": "stream",
     "text": [
      "['Lion', 'tiger', 'elephant', 'cow']\n"
     ]
    }
   ],
   "source": [
    "del animals[3]\n",
    "print(animals)"
   ]
  },
  {
   "cell_type": "code",
   "execution_count": 120,
   "metadata": {},
   "outputs": [
    {
     "name": "stdout",
     "output_type": "stream",
     "text": [
      "[]\n"
     ]
    }
   ],
   "source": [
    "animals.clear()\n",
    "print(animals)"
   ]
  },
  {
   "cell_type": "code",
   "execution_count": 127,
   "metadata": {},
   "outputs": [
    {
     "name": "stdout",
     "output_type": "stream",
     "text": [
      "['Lion', 'tiger', 'elephant', 'deer', 'dog']\n"
     ]
    }
   ],
   "source": [
    "print(animals)"
   ]
  },
  {
   "cell_type": "code",
   "execution_count": 128,
   "metadata": {},
   "outputs": [
    {
     "name": "stdout",
     "output_type": "stream",
     "text": [
      "['Lion', 'tiger', 'elephant', 'deer', 'dog']\n"
     ]
    }
   ],
   "source": [
    "animals_list=animals.copy()\n",
    "print(animals_list)"
   ]
  },
  {
   "cell_type": "code",
   "execution_count": 136,
   "metadata": {},
   "outputs": [
    {
     "name": "stdout",
     "output_type": "stream",
     "text": [
      "['Lion', 'tiger', 'elephant', 'deer', 'dog']\n"
     ]
    }
   ],
   "source": [
    "animalslist=list(animals)\n",
    "print(animalslist)"
   ]
  },
  {
   "cell_type": "code",
   "execution_count": 137,
   "metadata": {},
   "outputs": [
    {
     "name": "stdout",
     "output_type": "stream",
     "text": [
      "['Lion', 'tiger', 'elephant', 'deer', 'dog']\n"
     ]
    }
   ],
   "source": [
    "print(animals_list)"
   ]
  },
  {
   "cell_type": "code",
   "execution_count": 140,
   "metadata": {},
   "outputs": [
    {
     "name": "stdout",
     "output_type": "stream",
     "text": [
      "['Lion', 'tiger', 'elephant', 'deer', 'dog', 'goat', 'sheep', 'buffelow']\n"
     ]
    }
   ],
   "source": [
    "#Join two list:\n",
    "a_list1=['Lion', 'tiger', 'elephant', 'deer', 'dog']\n",
    "a_list2=['goat','sheep','buffelow']\n",
    "total_list=a_list1+a_list2\n",
    "print(total_list)"
   ]
  },
  {
   "cell_type": "code",
   "execution_count": 150,
   "metadata": {},
   "outputs": [
    {
     "name": "stdout",
     "output_type": "stream",
     "text": [
      "['Lion', 'tiger', 'elephant', 'deer', 'dog', 'goat']\n",
      "['Lion', 'tiger', 'elephant', 'deer', 'dog', 'goat', 'sheep']\n",
      "['Lion', 'tiger', 'elephant', 'deer', 'dog', 'goat', 'sheep', 'buffelow']\n"
     ]
    }
   ],
   "source": [
    "#Append list2 into list1:\n",
    "a_list1=['Lion', 'tiger', 'elephant', 'deer', 'dog']\n",
    "a_list2=['goat','sheep','buffelow']\n",
    "for A in a_list2:\n",
    "    a_list1.append(A)\n",
    "    print(a_list1)"
   ]
  },
  {
   "cell_type": "code",
   "execution_count": 153,
   "metadata": {},
   "outputs": [
    {
     "name": "stdout",
     "output_type": "stream",
     "text": [
      "['Lion', 'tiger', 'elephant', 'deer', 'dog', 'goat', 'sheep', 'buffelow', 'camel', 'whele', 'donkey', 'horse']\n"
     ]
    }
   ],
   "source": [
    "#Use the extend() method to add list2 at the end of list1:\n",
    "a_list1=['Lion', 'tiger', 'elephant', 'deer', 'dog']\n",
    "a_list2=['goat','sheep','buffelow']\n",
    "a_list3=['camel','whele','donkey','horse']\n",
    "a_list1.extend(a_list2+a_list3)\n",
    "print(a_list1)"
   ]
  },
  {
   "cell_type": "code",
   "execution_count": 179,
   "metadata": {},
   "outputs": [
    {
     "name": "stdout",
     "output_type": "stream",
     "text": [
      "['Lion', 'tiger', 'elephant', 'deer', 'dog', 'goat', 'sheep', 'buffelow', 'camel', 'whele', 'donkey', 'horse']\n"
     ]
    }
   ],
   "source": [
    "a_list1=['Lion', 'tiger', 'elephant', 'deer', 'dog', 'goat', 'sheep', 'buffelow', 'camel', 'whele', 'donkey', 'horse']\n",
    "print(a_list1)\n"
   ]
  },
  {
   "cell_type": "code",
   "execution_count": 159,
   "metadata": {},
   "outputs": [
    {
     "data": {
      "text/plain": [
       "list"
      ]
     },
     "execution_count": 159,
     "metadata": {},
     "output_type": "execute_result"
    }
   ],
   "source": [
    "type(a_list1)"
   ]
  },
  {
   "cell_type": "code",
   "execution_count": 177,
   "metadata": {},
   "outputs": [
    {
     "name": "stdout",
     "output_type": "stream",
     "text": [
      "['whele', 'tiger', 'sheep', 'horse', 'goat', 'elephant', 'donkey', 'dog', 'deer', 'camel', 'buffelow', 'Lion']\n"
     ]
    }
   ],
   "source": [
    "a_list1.reverse()\n",
    "print(a_list1)"
   ]
  },
  {
   "cell_type": "code",
   "execution_count": 186,
   "metadata": {},
   "outputs": [
    {
     "name": "stdout",
     "output_type": "stream",
     "text": [
      "['Lion', 'buffelow', 'camel', 'deer', 'dog', 'donkey', 'elephant', 'goat', 'horse', 'sheep', 'tiger', 'whele']\n"
     ]
    }
   ],
   "source": [
    "a_list1.sort()\n",
    "print(a_list1)"
   ]
  },
  {
   "cell_type": "code",
   "execution_count": 22,
   "metadata": {},
   "outputs": [
    {
     "name": "stdout",
     "output_type": "stream",
     "text": [
      "['lion', 'buffelow', 'camel', 'deer', 'dog', 'donkey', 'elephant', 'goat', 'horse', 'sheep', 'tiger', 'whele']\n"
     ]
    }
   ],
   "source": [
    "mylist=['lion', 'buffelow', 'camel', 'deer', 'dog', 'donkey', 'elephant', 'goat', 'horse', 'sheep', 'tiger', 'whele']\n",
    "print(mylist)"
   ]
  },
  {
   "cell_type": "code",
   "execution_count": 23,
   "metadata": {},
   "outputs": [
    {
     "name": "stdout",
     "output_type": "stream",
     "text": [
      "['buffelow', 'camel', 'deer', 'dog', 'donkey', 'elephant', 'goat', 'horse', 'lion', 'sheep', 'tiger', 'whele']\n"
     ]
    }
   ],
   "source": [
    "mylist.sort()\n",
    "print(mylist)"
   ]
  },
  {
   "cell_type": "code",
   "execution_count": 28,
   "metadata": {},
   "outputs": [
    {
     "name": "stdout",
     "output_type": "stream",
     "text": [
      "['whele', 'tiger', 'sheep', 'lion', 'horse', 'goat', 'elephant', 'donkey', 'dog', 'deer', 'camel', 'buffelow']\n"
     ]
    }
   ],
   "source": [
    "mylist.sort(reverse=True)\n",
    "print(mylist)"
   ]
  },
  {
   "cell_type": "code",
   "execution_count": 29,
   "metadata": {},
   "outputs": [
    {
     "name": "stdout",
     "output_type": "stream",
     "text": [
      "['buffelow', 'camel', 'deer', 'dog', 'donkey', 'elephant', 'goat', 'horse', 'lion', 'sheep', 'tiger', 'whele']\n"
     ]
    }
   ],
   "source": [
    "mylist.sort(reverse=False)\n",
    "print(mylist)"
   ]
  },
  {
   "cell_type": "code",
   "execution_count": 32,
   "metadata": {},
   "outputs": [
    {
     "name": "stdout",
     "output_type": "stream",
     "text": [
      "1\n"
     ]
    }
   ],
   "source": [
    "A=mylist.count('camel')\n",
    "print(A)"
   ]
  },
  {
   "cell_type": "code",
   "execution_count": 33,
   "metadata": {},
   "outputs": [
    {
     "name": "stdout",
     "output_type": "stream",
     "text": [
      "['buffelow', 'Aardwolf', 'camel', 'deer', 'dog', 'donkey', 'elephant', 'goat', 'horse', 'lion', 'sheep', 'tiger', 'whele']\n"
     ]
    }
   ],
   "source": [
    "mylist.insert(1,'Aardwolf')\n",
    "print(mylist)"
   ]
  },
  {
   "cell_type": "code",
   "execution_count": 34,
   "metadata": {},
   "outputs": [
    {
     "name": "stdout",
     "output_type": "stream",
     "text": [
      "['Aardwolf', 'buffelow', 'camel', 'deer', 'dog', 'donkey', 'elephant', 'goat', 'horse', 'lion', 'sheep', 'tiger', 'whele']\n"
     ]
    }
   ],
   "source": [
    "mylist.sort()\n",
    "print(mylist)"
   ]
  },
  {
   "cell_type": "code",
   "execution_count": 35,
   "metadata": {},
   "outputs": [
    {
     "name": "stdout",
     "output_type": "stream",
     "text": [
      "['Aardwolf', 'buffelow', 'camel', 'deer', 'dog', 'donkey', 'elephant', 'goat', 'horse', 'lion', 'sheep', 'tiger', 'whele', 'camel']\n"
     ]
    }
   ],
   "source": [
    "mylist.append('camel')\n",
    "print(mylist)"
   ]
  },
  {
   "cell_type": "code",
   "execution_count": 36,
   "metadata": {},
   "outputs": [
    {
     "name": "stdout",
     "output_type": "stream",
     "text": [
      "2\n"
     ]
    }
   ],
   "source": [
    "A=mylist.count('camel')\n",
    "print(A)"
   ]
  },
  {
   "cell_type": "code",
   "execution_count": 41,
   "metadata": {},
   "outputs": [
    {
     "name": "stdout",
     "output_type": "stream",
     "text": [
      "11\n"
     ]
    }
   ],
   "source": [
    "A=mylist.index('tiger')\n",
    "print(A)"
   ]
  },
  {
   "cell_type": "code",
   "execution_count": 42,
   "metadata": {},
   "outputs": [
    {
     "name": "stdout",
     "output_type": "stream",
     "text": [
      "['Aardwolf', 'buffelow', 'camel', 'deer', 'dog', 'donkey', 'elephant', 'goat', 'horse', 'lion', 'sheep', 'tiger', 'whele', 'camel']\n"
     ]
    }
   ],
   "source": [
    "print(mylist)"
   ]
  },
  {
   "cell_type": "code",
   "execution_count": 43,
   "metadata": {},
   "outputs": [
    {
     "name": "stdout",
     "output_type": "stream",
     "text": [
      "['Aardwolf', 'buffelow', 'camel', 'deer', 'dog', 'donkey', 'elephant', 'goat', 'horse', 'lion', 'sheep', 'tiger', 'whele']\n"
     ]
    }
   ],
   "source": [
    "mylist.pop()\n",
    "print(mylist)"
   ]
  },
  {
   "cell_type": "code",
   "execution_count": null,
   "metadata": {},
   "outputs": [],
   "source": []
  }
 ],
 "metadata": {
  "kernelspec": {
   "display_name": "Python 3",
   "language": "python",
   "name": "python3"
  },
  "language_info": {
   "codemirror_mode": {
    "name": "ipython",
    "version": 3
   },
   "file_extension": ".py",
   "mimetype": "text/x-python",
   "name": "python",
   "nbconvert_exporter": "python",
   "pygments_lexer": "ipython3",
   "version": "3.7.3"
  }
 },
 "nbformat": 4,
 "nbformat_minor": 2
}
